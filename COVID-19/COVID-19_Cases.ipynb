{
 "cells": [
  {
   "cell_type": "markdown",
   "metadata": {},
   "source": [
    "# Ежедневные данные по выявленным случаям COVID-19\n",
    "### для городов/штатов: Москва, Лондон, Мадрид, Амстердам, Калифорния и Иллинойс"
   ]
  },
  {
   "cell_type": "code",
   "execution_count": 1,
   "metadata": {},
   "outputs": [],
   "source": [
    "import pandas as pd\n",
    "from datetime import datetime\n",
    "from bs4 import BeautifulSoup\n",
    "import requests as req\n",
    "import json"
   ]
  },
  {
   "cell_type": "markdown",
   "metadata": {},
   "source": [
    "## Москва"
   ]
  },
  {
   "cell_type": "code",
   "execution_count": 2,
   "metadata": {},
   "outputs": [
    {
     "data": {
      "text/html": [
       "<div>\n",
       "<style scoped>\n",
       "    .dataframe tbody tr th:only-of-type {\n",
       "        vertical-align: middle;\n",
       "    }\n",
       "\n",
       "    .dataframe tbody tr th {\n",
       "        vertical-align: top;\n",
       "    }\n",
       "\n",
       "    .dataframe thead th {\n",
       "        text-align: right;\n",
       "    }\n",
       "</style>\n",
       "<table border=\"1\" class=\"dataframe\">\n",
       "  <thead>\n",
       "    <tr style=\"text-align: right;\">\n",
       "      <th></th>\n",
       "      <th>Дата</th>\n",
       "      <th>Заражений</th>\n",
       "      <th>Смертей</th>\n",
       "      <th>Выздоровлений</th>\n",
       "      <th>Заражено на дату</th>\n",
       "    </tr>\n",
       "  </thead>\n",
       "  <tbody>\n",
       "    <tr>\n",
       "      <th>0</th>\n",
       "      <td>20.12.2020</td>\n",
       "      <td>735900</td>\n",
       "      <td>10394</td>\n",
       "      <td>567743</td>\n",
       "      <td>157763</td>\n",
       "    </tr>\n",
       "    <tr>\n",
       "      <th>1</th>\n",
       "      <td>19.12.2020</td>\n",
       "      <td>728637</td>\n",
       "      <td>10317</td>\n",
       "      <td>562953</td>\n",
       "      <td>155367</td>\n",
       "    </tr>\n",
       "    <tr>\n",
       "      <th>2</th>\n",
       "      <td>18.12.2020</td>\n",
       "      <td>722178</td>\n",
       "      <td>10243</td>\n",
       "      <td>557028</td>\n",
       "      <td>154907</td>\n",
       "    </tr>\n",
       "    <tr>\n",
       "      <th>3</th>\n",
       "      <td>17.12.2020</td>\n",
       "      <td>715241</td>\n",
       "      <td>10171</td>\n",
       "      <td>551207</td>\n",
       "      <td>153863</td>\n",
       "    </tr>\n",
       "    <tr>\n",
       "      <th>4</th>\n",
       "      <td>16.12.2020</td>\n",
       "      <td>708530</td>\n",
       "      <td>10095</td>\n",
       "      <td>545430</td>\n",
       "      <td>153005</td>\n",
       "    </tr>\n",
       "    <tr>\n",
       "      <th>...</th>\n",
       "      <td>...</td>\n",
       "      <td>...</td>\n",
       "      <td>...</td>\n",
       "      <td>...</td>\n",
       "      <td>...</td>\n",
       "    </tr>\n",
       "    <tr>\n",
       "      <th>264</th>\n",
       "      <td>31.03.2020</td>\n",
       "      <td>1613</td>\n",
       "      <td>11</td>\n",
       "      <td>70</td>\n",
       "      <td>1532</td>\n",
       "    </tr>\n",
       "    <tr>\n",
       "      <th>265</th>\n",
       "      <td>30.03.2020</td>\n",
       "      <td>1226</td>\n",
       "      <td>6</td>\n",
       "      <td>28</td>\n",
       "      <td>1192</td>\n",
       "    </tr>\n",
       "    <tr>\n",
       "      <th>266</th>\n",
       "      <td>29.03.2020</td>\n",
       "      <td>1014</td>\n",
       "      <td>6</td>\n",
       "      <td>28</td>\n",
       "      <td>980</td>\n",
       "    </tr>\n",
       "    <tr>\n",
       "      <th>267</th>\n",
       "      <td>28.03.2020</td>\n",
       "      <td>817</td>\n",
       "      <td>4</td>\n",
       "      <td>18</td>\n",
       "      <td>795</td>\n",
       "    </tr>\n",
       "    <tr>\n",
       "      <th>268</th>\n",
       "      <td>27.03.2020</td>\n",
       "      <td>703</td>\n",
       "      <td>3</td>\n",
       "      <td>18</td>\n",
       "      <td>682</td>\n",
       "    </tr>\n",
       "  </tbody>\n",
       "</table>\n",
       "<p>269 rows × 5 columns</p>\n",
       "</div>"
      ],
      "text/plain": [
       "           Дата  Заражений  Смертей  Выздоровлений  Заражено на дату\n",
       "0    20.12.2020     735900    10394         567743            157763\n",
       "1    19.12.2020     728637    10317         562953            155367\n",
       "2    18.12.2020     722178    10243         557028            154907\n",
       "3    17.12.2020     715241    10171         551207            153863\n",
       "4    16.12.2020     708530    10095         545430            153005\n",
       "..          ...        ...      ...            ...               ...\n",
       "264  31.03.2020       1613       11             70              1532\n",
       "265  30.03.2020       1226        6             28              1192\n",
       "266  29.03.2020       1014        6             28               980\n",
       "267  28.03.2020        817        4             18               795\n",
       "268  27.03.2020        703        3             18               682\n",
       "\n",
       "[269 rows x 5 columns]"
      ]
     },
     "execution_count": 2,
     "metadata": {},
     "output_type": "execute_result"
    }
   ],
   "source": [
    "url_Moscow = 'https://russian-trade.com/coronavirus-russia/moskva/'\n",
    "Moscow_data = pd.read_html(url_Moscow, flavor='html5lib', encoding='utf-8')[0]\n",
    "Moscow_data"
   ]
  },
  {
   "cell_type": "code",
   "execution_count": 3,
   "metadata": {},
   "outputs": [],
   "source": [
    "file_Moscow = open('Moscow_covid_cases.csv', 'w')\n",
    "Cases = [0]\n",
    "for val in Moscow_data.sort_index(ascending=False).iterrows():\n",
    "        date = val[1]['Дата']\n",
    "        Cases.append(val[1]['Заражений'])\n",
    "        div = val[1]['Заражений'] - Cases[-2]\n",
    "        file_Moscow .write(f'{date} \\t {div}\\n')\n",
    "file_Moscow.close()"
   ]
  },
  {
   "cell_type": "markdown",
   "metadata": {},
   "source": [
    "## London"
   ]
  },
  {
   "cell_type": "code",
   "execution_count": 4,
   "metadata": {},
   "outputs": [],
   "source": [
    "url_London = 'https://api.coronavirus.data.gov.uk/v2/data?areaType=region&areaCode=E12000007&metric=cumCasesBySpecimenDate&format=json&release=2020-12-19'"
   ]
  },
  {
   "cell_type": "code",
   "execution_count": 5,
   "metadata": {},
   "outputs": [],
   "source": [
    "resp = req.get(url_London)\n",
    "data_London = json.loads(resp.text)['body']"
   ]
  },
  {
   "cell_type": "code",
   "execution_count": 6,
   "metadata": {},
   "outputs": [],
   "source": [
    "file_London = open('London_covid_cases.csv', 'w')\n",
    "Cases = [0]\n",
    "for key in data_London[::-1]:\n",
    "    if key['cumCasesBySpecimenDate']:\n",
    "        date = datetime.strptime(key['date'], '%Y-%m-%d')\n",
    "        date = date.strftime('%d.%m.%Y')\n",
    "        Cases.append(key['cumCasesBySpecimenDate'])\n",
    "        div = key['cumCasesBySpecimenDate'] - Cases[-2]\n",
    "        file_London.write(f'{date} \\t {div}\\n')\n",
    "file_London.close()"
   ]
  },
  {
   "cell_type": "markdown",
   "metadata": {},
   "source": [
    "# California"
   ]
  },
  {
   "cell_type": "code",
   "execution_count": 7,
   "metadata": {},
   "outputs": [],
   "source": [
    "url_USA = 'https://github.com/nytimes/covid-19-data/blob/master/us-states.csv'"
   ]
  },
  {
   "cell_type": "code",
   "execution_count": 8,
   "metadata": {},
   "outputs": [],
   "source": [
    "data_USA = pd.read_html(url_USA, flavor='html5lib')[0]"
   ]
  },
  {
   "cell_type": "code",
   "execution_count": 9,
   "metadata": {},
   "outputs": [
    {
     "data": {
      "text/html": [
       "<div>\n",
       "<style scoped>\n",
       "    .dataframe tbody tr th:only-of-type {\n",
       "        vertical-align: middle;\n",
       "    }\n",
       "\n",
       "    .dataframe tbody tr th {\n",
       "        vertical-align: top;\n",
       "    }\n",
       "\n",
       "    .dataframe thead th {\n",
       "        text-align: right;\n",
       "    }\n",
       "</style>\n",
       "<table border=\"1\" class=\"dataframe\">\n",
       "  <thead>\n",
       "    <tr style=\"text-align: right;\">\n",
       "      <th></th>\n",
       "      <th>0</th>\n",
       "      <th>1</th>\n",
       "    </tr>\n",
       "  </thead>\n",
       "  <tbody>\n",
       "    <tr>\n",
       "      <th>0</th>\n",
       "      <td>NaN</td>\n",
       "      <td>date,state,fips,cases,deaths</td>\n",
       "    </tr>\n",
       "    <tr>\n",
       "      <th>1</th>\n",
       "      <td>NaN</td>\n",
       "      <td>2020-01-21,Washington,53,1,0</td>\n",
       "    </tr>\n",
       "    <tr>\n",
       "      <th>2</th>\n",
       "      <td>NaN</td>\n",
       "      <td>2020-01-22,Washington,53,1,0</td>\n",
       "    </tr>\n",
       "    <tr>\n",
       "      <th>3</th>\n",
       "      <td>NaN</td>\n",
       "      <td>2020-01-23,Washington,53,1,0</td>\n",
       "    </tr>\n",
       "    <tr>\n",
       "      <th>4</th>\n",
       "      <td>NaN</td>\n",
       "      <td>2020-01-24,Illinois,17,1,0</td>\n",
       "    </tr>\n",
       "  </tbody>\n",
       "</table>\n",
       "</div>"
      ],
      "text/plain": [
       "    0                             1\n",
       "0 NaN  date,state,fips,cases,deaths\n",
       "1 NaN  2020-01-21,Washington,53,1,0\n",
       "2 NaN  2020-01-22,Washington,53,1,0\n",
       "3 NaN  2020-01-23,Washington,53,1,0\n",
       "4 NaN    2020-01-24,Illinois,17,1,0"
      ]
     },
     "execution_count": 9,
     "metadata": {},
     "output_type": "execute_result"
    }
   ],
   "source": [
    "data_USA.head()"
   ]
  },
  {
   "cell_type": "code",
   "execution_count": 10,
   "metadata": {},
   "outputs": [],
   "source": [
    "def write_csv_USA(state):\n",
    "    name = str(state) + '_covid_cases.csv'\n",
    "    file = open(name, 'w')\n",
    "    Cases = [0]\n",
    "    for key in data_USA[ data_USA[1].str.contains(str(state), case=False) ][1]:\n",
    "        row_list = key.split(',')\n",
    "        date = datetime.strptime(row_list[0], '%Y-%m-%d')\n",
    "        date = date.strftime('%d.%m.%Y')\n",
    "        CumulativeCases = int(row_list[3])\n",
    "        Cases.append(CumulativeCases)\n",
    "        div = CumulativeCases - Cases[-2]\n",
    "        file.write(f'{date} \\t {div}\\n')\n",
    "    file.close()"
   ]
  },
  {
   "cell_type": "code",
   "execution_count": 11,
   "metadata": {},
   "outputs": [],
   "source": [
    "write_csv_USA('California')"
   ]
  },
  {
   "cell_type": "code",
   "execution_count": 12,
   "metadata": {},
   "outputs": [],
   "source": [
    "write_csv_USA('Illinois')"
   ]
  },
  {
   "cell_type": "markdown",
   "metadata": {},
   "source": [
    "# Madrid"
   ]
  },
  {
   "cell_type": "code",
   "execution_count": 13,
   "metadata": {},
   "outputs": [],
   "source": [
    "url_Madrid = 'https://flo.uri.sh/visualisation/4440591/embed?auto=1'"
   ]
  },
  {
   "cell_type": "code",
   "execution_count": 14,
   "metadata": {},
   "outputs": [],
   "source": [
    "resp = req.get(url_Madrid)\n",
    "soup = BeautifulSoup(resp.text, 'html5lib')\n",
    "script = soup.findAll('script')[4].string\n",
    "cities_dict = script.split(\"_Flourish_data_column_names = \", 1)[-1].rsplit('\\n', -1)[0][0:-1]\n",
    "cities_dict = json.loads(cities_dict)"
   ]
  },
  {
   "cell_type": "code",
   "execution_count": 15,
   "metadata": {},
   "outputs": [],
   "source": [
    "Madrid_column_position = cities_dict['data']['value'].index('Madrid')"
   ]
  },
  {
   "cell_type": "code",
   "execution_count": 18,
   "metadata": {},
   "outputs": [],
   "source": [
    "Spain_data = script.split(\"_Flourish_data = \", 1)[-1].rsplit(';', -1)[0]\n",
    "Spain_data = json.loads(Spain_data)"
   ]
  },
  {
   "cell_type": "code",
   "execution_count": 20,
   "metadata": {},
   "outputs": [],
   "source": [
    "file_Madrid = open('Madrid_covid_cases.csv', 'w')\n",
    "for value in Spain_data['data']:\n",
    "    \n",
    "    date = datetime.strptime(value['label'], '%d/%m/%Y')\n",
    "    date = date.strftime('%d.%m.%Y')\n",
    "    Cases = int(value['value'][Madrid_column_position])\n",
    "    file_Madrid.write(f'{date} \\t {Cases}\\n')\n",
    "    \n",
    "file_Madrid.close()"
   ]
  },
  {
   "cell_type": "code",
   "execution_count": null,
   "metadata": {},
   "outputs": [],
   "source": []
  },
  {
   "cell_type": "markdown",
   "metadata": {},
   "source": [
    "# Amsterdam"
   ]
  },
  {
   "cell_type": "code",
   "execution_count": 21,
   "metadata": {},
   "outputs": [],
   "source": [
    "url_Netherlands = 'https://coronadashboard.government.nl/gemeente/GM0363/positief-geteste-mensen'"
   ]
  },
  {
   "cell_type": "code",
   "execution_count": 22,
   "metadata": {},
   "outputs": [],
   "source": [
    "resp = req.get(url_Netherlands)\n",
    "soup = BeautifulSoup(resp.text, 'html5lib')\n",
    "script = soup.findAll('script')[1].string\n",
    "ams_dict = json.loads(script)"
   ]
  },
  {
   "cell_type": "code",
   "execution_count": 23,
   "metadata": {},
   "outputs": [],
   "source": [
    "data_Netherlands = ams_dict['props']['pageProps']['data']['positive_tested_people']['values']"
   ]
  },
  {
   "cell_type": "code",
   "execution_count": 25,
   "metadata": {},
   "outputs": [],
   "source": [
    "file_Amsterdam = open('Amsterdam_covid_cases.csv', 'w')\n",
    "for val in data_Netherlands:\n",
    "    date = datetime.fromtimestamp(val['date_of_report_unix'])\n",
    "    date = date.strftime('%d.%m.%Y')\n",
    "    Cases = int(val['infected_daily_total'])\n",
    "    file_Amsterdam.write(f'{date} \\t {Cases}\\n')"
   ]
  },
  {
   "cell_type": "code",
   "execution_count": null,
   "metadata": {},
   "outputs": [],
   "source": []
  }
 ],
 "metadata": {
  "kernelspec": {
   "display_name": "Python 3",
   "language": "python",
   "name": "python3"
  },
  "language_info": {
   "codemirror_mode": {
    "name": "ipython",
    "version": 3
   },
   "file_extension": ".py",
   "mimetype": "text/x-python",
   "name": "python",
   "nbconvert_exporter": "python",
   "pygments_lexer": "ipython3",
   "version": "3.8.3"
  }
 },
 "nbformat": 4,
 "nbformat_minor": 4
}
